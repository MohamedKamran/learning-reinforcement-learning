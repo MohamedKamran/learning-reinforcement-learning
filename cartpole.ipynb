{
 "cells": [
  {
   "cell_type": "code",
   "execution_count": null,
   "metadata": {},
   "outputs": [],
   "source": [
    "%pip install 'stable-baselines3[extra]' -q"
   ]
  },
  {
   "cell_type": "markdown",
   "metadata": {},
   "source": [
    "## Playing with OpenAI Gymnassium"
   ]
  },
  {
   "cell_type": "code",
   "execution_count": null,
   "metadata": {},
   "outputs": [],
   "source": [
    "import os\n",
    "import gymnasium as gym\n",
    "from stable_baselines3 import PPO\n",
    "from stable_baselines3.common.vec_env import DummyVecEnv\n",
    "from stable_baselines3.common.evaluation import evaluate_policy\n",
    "import matplotlib.pyplot as plt\n",
    "from IPython import display\n",
    "%matplotlib inline"
   ]
  },
  {
   "cell_type": "code",
   "execution_count": null,
   "metadata": {},
   "outputs": [],
   "source": [
    "playground_config = \"CartPole-v1\"\n",
    "playground = gym.make(playground_config, render_mode=\"rgb_array\")"
   ]
  },
  {
   "cell_type": "code",
   "execution_count": null,
   "metadata": {},
   "outputs": [],
   "source": [
    "episodes = 5\n",
    "playground.reset()\n",
    "img = plt.imshow(playground.render()) \n",
    "for episode in range(episodes):\n",
    "    state = playground.reset()\n",
    "    done = False\n",
    "    score = 0\n",
    "    while not done:\n",
    "        img.set_data(playground.render())\n",
    "        action = playground.action_space.sample()\n",
    "        obs, reward, terminated, truncated , info = playground.step(action)\n",
    "        done = terminated or truncated\n",
    "        score += reward\n",
    "        title_box = (f\"Episode: {episode + 1}, Score: {score}\")\n",
    "        plt.title(title_box)\n",
    "        display.display(plt.gcf())\n",
    "        display.clear_output(wait=True)\n",
    "playground.close()"
   ]
  },
  {
   "cell_type": "code",
   "execution_count": null,
   "metadata": {},
   "outputs": [],
   "source": [
    "%pip install torch"
   ]
  },
  {
   "cell_type": "markdown",
   "metadata": {},
   "source": [
    "## Training the Playground Model"
   ]
  },
  {
   "cell_type": "code",
   "execution_count": null,
   "metadata": {},
   "outputs": [],
   "source": [
    "\n",
    "logpath = \"training/logs\"\n",
    "os.makedirs(logpath, exist_ok=True)"
   ]
  },
  {
   "cell_type": "code",
   "execution_count": null,
   "metadata": {},
   "outputs": [],
   "source": [
    "# Check if Apple MPS or Nvidia CUDA is available on PyTorch\n",
    "\n",
    "import torch\n",
    "\n",
    "if torch.backends.mps.is_available():\n",
    "    print(\"MPS backend is available. Setting to Apple MPS.\")\n",
    "    torch.device(\"mps\")\n",
    "elif torch.cuda.is_available():\n",
    "    print(\"Nvidia CUDA is available. Setting to CUDA.\")\n",
    "    torch.device(\"cuda\")\n",
    "else:\n",
    "    print(\"MPS backend or CUDA is not available.\")"
   ]
  },
  {
   "cell_type": "code",
   "execution_count": null,
   "metadata": {},
   "outputs": [],
   "source": [
    "playground = gym.make(playground_config)\n",
    "playground = DummyVecEnv([lambda: playground])\n",
    "model = PPO(\"MlpPolicy\", playground, verbose=1, tensorboard_log=logpath)\n",
    "# Issue with Apple M Series, even though it uses Metal, it displays CPU"
   ]
  },
  {
   "cell_type": "code",
   "execution_count": null,
   "metadata": {},
   "outputs": [],
   "source": [
    "# First Train the Model\n",
    "model.learn(total_timesteps=50000)\n",
    "\n",
    "# Save the Model\n",
    "os.makedirs(\"training/models\", exist_ok=True)\n",
    "model.save(\"training/models/ppo_cartpole\")\n",
    "\n",
    "print(\"Model has been saved.\")"
   ]
  },
  {
   "cell_type": "code",
   "execution_count": null,
   "metadata": {},
   "outputs": [],
   "source": [
    "# Load from the Model\n",
    "loaded_model = PPO.load(\"training/models/ppo_cartpole\",env=playground)"
   ]
  },
  {
   "cell_type": "code",
   "execution_count": null,
   "metadata": {},
   "outputs": [],
   "source": [
    "# Evaluate the Model\n",
    "mean_reward, std_reward = evaluate_policy(loaded_model, playground, n_eval_episodes=10,render=False)\n",
    "print(f\"Mean Reward: {mean_reward:.2f} +/- {std_reward:.2f}\")"
   ]
  },
  {
   "cell_type": "code",
   "execution_count": null,
   "metadata": {},
   "outputs": [],
   "source": [
    "# Test the Model\n",
    "episodes = 5\n",
    "playground = gym.make(playground_config, render_mode=\"rgb_array\")\n",
    "playground = DummyVecEnv([lambda: playground])\n",
    "for episode in range(episodes):\n",
    "    state = playground.reset()\n",
    "    done = False\n",
    "    score = 0\n",
    "    while not done:\n",
    "        action, _ = loaded_model.predict(state)\n",
    "        state, reward, done, info = playground.step(action)\n",
    "        score += reward\n",
    "        title_box = (f\"Episode: {episode + 1}, Score: {score}\")\n",
    "        # plt.title(title_box)\n",
    "        # display.display(plt.gcf())\n",
    "        # display.clear_output(wait=True)\n",
    "    print(f\"Episode: {episode + 1}, Score: {score}\")\n",
    "playground.close()"
   ]
  },
  {
   "cell_type": "code",
   "execution_count": null,
   "metadata": {},
   "outputs": [],
   "source": [
    "state"
   ]
  },
  {
   "cell_type": "code",
   "execution_count": null,
   "metadata": {},
   "outputs": [],
   "source": [
    "\"Tensorboard can be used to visualize the training process.\"\n",
    "# training_ppo5 = os.path.join(logpath, \"PPO_6\")\n",
    "# !tensorboard --logdir={training_ppo5}"
   ]
  },
  {
   "cell_type": "markdown",
   "metadata": {},
   "source": [
    "## Change the Architectures of the Model"
   ]
  },
  {
   "cell_type": "code",
   "execution_count": null,
   "metadata": {},
   "outputs": [],
   "source": [
    "# Extend the Training\n",
    "from stable_baselines3.common.callbacks import EvalCallback, StopTrainingOnRewardThreshold\n",
    "stop_callback = StopTrainingOnRewardThreshold(reward_threshold=500, verbose=1)\n",
    "eval_callback = EvalCallback(playground, callback_on_new_best=stop_callback, eval_freq=100000, best_model_save_path=\"training/models/ppo_cartpole_best\", verbose=1)"
   ]
  },
  {
   "cell_type": "code",
   "execution_count": null,
   "metadata": {},
   "outputs": [],
   "source": [
    "model = PPO(\"MlpPolicy\", playground, verbose=1, tensorboard_log=logpath)\n",
    "model.learn(total_timesteps=200000, callback=eval_callback)"
   ]
  },
  {
   "cell_type": "code",
   "execution_count": null,
   "metadata": {},
   "outputs": [],
   "source": [
    "# Change Policy Network Architecture\n",
    "net_arch = [dict(pi=[128,128,128,128], vf=[128,128,128,128])]\n",
    "model = PPO(\"MlpPolicy\", playground, policy_kwargs=dict(net_arch=net_arch), verbose=1, tensorboard_log=logpath)\n",
    "model.learn(total_timesteps=100000, callback=eval_callback)"
   ]
  },
  {
   "cell_type": "code",
   "execution_count": null,
   "metadata": {},
   "outputs": [],
   "source": [
    "# Use Alternate Algorithms\n",
    "from stable_baselines3 import DQN\n",
    "model = DQN(\"MlpPolicy\", playground, verbose=1, tensorboard_log=logpath)\n",
    "model.learn(total_timesteps=100000)"
   ]
  }
 ],
 "metadata": {
  "kernelspec": {
   "display_name": "Python 3",
   "language": "python",
   "name": "python3"
  },
  "language_info": {
   "codemirror_mode": {
    "name": "ipython",
    "version": 3
   },
   "file_extension": ".py",
   "mimetype": "text/x-python",
   "name": "python",
   "nbconvert_exporter": "python",
   "pygments_lexer": "ipython3",
   "version": "3.11.11"
  }
 },
 "nbformat": 4,
 "nbformat_minor": 2
}
